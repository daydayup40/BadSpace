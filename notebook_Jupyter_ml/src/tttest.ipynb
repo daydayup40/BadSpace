{
 "cells": [
  {
   "cell_type": "code",
   "execution_count": 10,
   "metadata": {
    "collapsed": false
   },
   "outputs": [
    {
     "name": "stdout",
     "output_type": "stream",
     "text": [
      "mean = 3.00\n",
      "average = 3.00\n"
     ]
    }
   ],
   "source": [
    "import numpy as np\n",
    "#myArray = np.array([[3, 4], [5, 6]])\n",
    "xx = [[1],[2],[3],[4],[5]]\n",
    "ww = [[1],[1],[2],[2],[0]]\n",
    "ww = [[1],[1],[1],[1],[1]]\n",
    "ret1 = np.mean(xx)\n",
    "ret2 = np.average(xx,weights=ww)\n",
    "print( 'mean = %.2f' % ret1 )\n",
    "print( 'average = %.2f' % ret2 )"
   ]
  },
  {
   "cell_type": "code",
   "execution_count": 11,
   "metadata": {
    "collapsed": false
   },
   "outputs": [
    {
     "name": "stdout",
     "output_type": "stream",
     "text": [
      "[  1.     1.25   1.5    1.75   2.     2.25   2.5    2.75   3.     3.25\n",
      "   3.5    3.75   4.     4.25   4.5    4.75   5.     5.25   5.5    5.75   6.\n",
      "   6.25   6.5    6.75   7.     7.25   7.5    7.75   8.     8.25   8.5\n",
      "   8.75   9.     9.25   9.5    9.75  10.    10.25  10.5   10.75  11.    11.25\n",
      "  11.5   11.75  12.    12.25  12.5   12.75  13.    13.25  13.5   13.75  14.\n",
      "  14.25  14.5   14.75  15.    15.25  15.5   15.75  16.    16.25  16.5\n",
      "  16.75  17.    17.25  17.5   17.75  18.    18.25  18.5   18.75  19.    19.25\n",
      "  19.5   19.75  20.    20.25  20.5   20.75  21.    21.25  21.5   21.75  22.\n",
      "  22.25  22.5   22.75  23.    23.25  23.5   23.75  24.    24.25  24.5\n",
      "  24.75  25.    25.25  25.5   25.75  26.  ]\n"
     ]
    }
   ],
   "source": [
    "import numpy as np\n",
    "xx = np.linspace(1, 26, 101)\n",
    "print(xx)"
   ]
  },
  {
   "cell_type": "code",
   "execution_count": 12,
   "metadata": {
    "collapsed": false
   },
   "outputs": [
    {
     "data": {
      "image/png": "[encoded data removed]",
      "text/plain": [
       "<matplotlib.figure.Figure at 0x7f502a39c390>"
      ]
     },
     "metadata": {},
     "output_type": "display_data"
    },
    {
     "name": "stdout",
     "output_type": "stream",
     "text": [
      "N次回归 r-squared\n",
      "0.867544365635\n"
     ]
    }
   ],
   "source": [
    "% matplotlib inline\n",
    "import matplotlib.pyplot as plt\n",
    "def runplt():\n",
    "    plt.figure()\n",
    "    plt.title('test')\n",
    "    plt.xlabel('X')\n",
    "    plt.ylabel('Y')\n",
    "    plt.axis([0, 25, 0, 25])\n",
    "    plt.grid( True )\n",
    "    return plt\n",
    "\n",
    "import numpy as np\n",
    "from sklearn.linear_model import LinearRegression\n",
    "from sklearn.preprocessing import PolynomialFeatures\n",
    "X_train = [[6], [8], [10], [14], [18]]\n",
    "y_train = [[7], [9], [13], [17.5], [18]]\n",
    "X_test = [[6], [8], [11], [16]]\n",
    "y_test = [[8], [12], [15], [18]]\n",
    "\n",
    "xx = np.linspace(0, 26, 100)\n",
    "\n",
    "plt = runplt()\n",
    "plt.plot(X_train, y_train, 'k.')\n",
    "\n",
    "N_featurizer = PolynomialFeatures(degree=2)\n",
    "X_train_N = N_featurizer.fit_transform(X_train)\n",
    "X_test_N = N_featurizer.transform(X_test)\n",
    "regressor_N = LinearRegression()\n",
    "regressor_N.fit(X_train_N, y_train)\n",
    "xx_N = N_featurizer.transform(xx.reshape(xx.shape[0], 1))\n",
    "\n",
    "plt.plot(xx, regressor_N.predict(xx_N), 'r-')\n",
    "plt.show()\n",
    "\n",
    "print('N次回归 r-squared')\n",
    "print(regressor_N.score(X_test_N, y_test))"
   ]
  },
  {
   "cell_type": "code",
   "execution_count": 13,
   "metadata": {
    "collapsed": false
   },
   "outputs": [
    {
     "data": {
      "text/html": [
       "<div>\n",
       "<table border=\"1\" class=\"dataframe\">\n",
       "  <thead>\n",
       "    <tr style=\"text-align: right;\">\n",
       "      <th></th>\n",
       "      <th>a</th>\n",
       "      <th>b</th>\n",
       "      <th>c</th>\n",
       "      <th>d</th>\n",
       "    </tr>\n",
       "  </thead>\n",
       "  <tbody>\n",
       "    <tr>\n",
       "      <th>0</th>\n",
       "      <td>1</td>\n",
       "      <td>2</td>\n",
       "      <td>3</td>\n",
       "      <td>4</td>\n",
       "    </tr>\n",
       "    <tr>\n",
       "      <th>1</th>\n",
       "      <td>5</td>\n",
       "      <td>6</td>\n",
       "      <td>7</td>\n",
       "      <td>8</td>\n",
       "    </tr>\n",
       "  </tbody>\n",
       "</table>\n",
       "</div>"
      ],
      "text/plain": [
       "   a  b  c  d\n",
       "0  1  2  3  4\n",
       "1  5  6  7  8"
      ]
     },
     "execution_count": 13,
     "metadata": {},
     "output_type": "execute_result"
    }
   ],
   "source": [
    "import pandas as pd\n",
    "df = pd.read_csv('/ml/a.csv', sep=',')\n",
    "df.head()\n",
    "\n"
   ]
  },
  {
   "cell_type": "code",
   "execution_count": 14,
   "metadata": {
    "collapsed": false
   },
   "outputs": [
    {
     "data": {
      "text/html": [
       "<div>\n",
       "<table border=\"1\" class=\"dataframe\">\n",
       "  <thead>\n",
       "    <tr style=\"text-align: right;\">\n",
       "      <th></th>\n",
       "      <th>a</th>\n",
       "      <th>b</th>\n",
       "      <th>c</th>\n",
       "      <th>d</th>\n",
       "    </tr>\n",
       "  </thead>\n",
       "  <tbody>\n",
       "    <tr>\n",
       "      <th>count</th>\n",
       "      <td>2.000000</td>\n",
       "      <td>2.000000</td>\n",
       "      <td>2.000000</td>\n",
       "      <td>2.000000</td>\n",
       "    </tr>\n",
       "    <tr>\n",
       "      <th>mean</th>\n",
       "      <td>3.000000</td>\n",
       "      <td>4.000000</td>\n",
       "      <td>5.000000</td>\n",
       "      <td>6.000000</td>\n",
       "    </tr>\n",
       "    <tr>\n",
       "      <th>std</th>\n",
       "      <td>2.828427</td>\n",
       "      <td>2.828427</td>\n",
       "      <td>2.828427</td>\n",
       "      <td>2.828427</td>\n",
       "    </tr>\n",
       "    <tr>\n",
       "      <th>min</th>\n",
       "      <td>1.000000</td>\n",
       "      <td>2.000000</td>\n",
       "      <td>3.000000</td>\n",
       "      <td>4.000000</td>\n",
       "    </tr>\n",
       "    <tr>\n",
       "      <th>25%</th>\n",
       "      <td>2.000000</td>\n",
       "      <td>3.000000</td>\n",
       "      <td>4.000000</td>\n",
       "      <td>5.000000</td>\n",
       "    </tr>\n",
       "    <tr>\n",
       "      <th>50%</th>\n",
       "      <td>3.000000</td>\n",
       "      <td>4.000000</td>\n",
       "      <td>5.000000</td>\n",
       "      <td>6.000000</td>\n",
       "    </tr>\n",
       "    <tr>\n",
       "      <th>75%</th>\n",
       "      <td>4.000000</td>\n",
       "      <td>5.000000</td>\n",
       "      <td>6.000000</td>\n",
       "      <td>7.000000</td>\n",
       "    </tr>\n",
       "    <tr>\n",
       "      <th>max</th>\n",
       "      <td>5.000000</td>\n",
       "      <td>6.000000</td>\n",
       "      <td>7.000000</td>\n",
       "      <td>8.000000</td>\n",
       "    </tr>\n",
       "  </tbody>\n",
       "</table>\n",
       "</div>"
      ],
      "text/plain": [
       "              a         b         c         d\n",
       "count  2.000000  2.000000  2.000000  2.000000\n",
       "mean   3.000000  4.000000  5.000000  6.000000\n",
       "std    2.828427  2.828427  2.828427  2.828427\n",
       "min    1.000000  2.000000  3.000000  4.000000\n",
       "25%    2.000000  3.000000  4.000000  5.000000\n",
       "50%    3.000000  4.000000  5.000000  6.000000\n",
       "75%    4.000000  5.000000  6.000000  7.000000\n",
       "max    5.000000  6.000000  7.000000  8.000000"
      ]
     },
     "execution_count": 14,
     "metadata": {},
     "output_type": "execute_result"
    }
   ],
   "source": [
    "df.describe()"
   ]
  },
  {
   "cell_type": "code",
   "execution_count": 15,
   "metadata": {
    "collapsed": false
   },
   "outputs": [
    {
     "data": {
      "image/png": "[encoded data removed]",
      "text/plain": [
       "<matplotlib.figure.Figure at 0x7f501ba9a5d0>"
      ]
     },
     "metadata": {},
     "output_type": "display_data"
    }
   ],
   "source": [
    "plt.scatter(df['a'], df['b'])\n",
    "plt.xlabel('Alcohol')\n",
    "plt.ylabel('Quality')\n",
    "plt.title('ttt')\n",
    "plt.show()"
   ]
  },
  {
   "cell_type": "code",
   "execution_count": 3,
   "metadata": {
    "collapsed": false
   },
   "outputs": [
    {
     "ename": "SyntaxError",
     "evalue": "invalid syntax (<ipython-input-3-87ec484ebd78>, line 9)",
     "output_type": "error",
     "traceback": [
      "\u001b[0;36m  File \u001b[0;32m\"<ipython-input-3-87ec484ebd78>\"\u001b[0;36m, line \u001b[0;32m9\u001b[0m\n\u001b[0;31m    print( for ss in fruits )\u001b[0m\n\u001b[0m             ^\u001b[0m\n\u001b[0;31mSyntaxError\u001b[0m\u001b[0;31m:\u001b[0m invalid syntax\n"
     ]
    }
   ],
   "source": [
    "for letter in 'Python':     # 第一个实例\n",
    "   print '当前字母 :', letter\n",
    " \n",
    "fruits = ['banana', 'apple',  'mango']\n",
    "for fruit in fruits:        # 第二个实例\n",
    "   print '当前字母 :', fruit\n",
    " \n",
    "print \"Good bye!\""
   ]
  },
  {
   "cell_type": "code",
   "execution_count": 17,
   "metadata": {
    "collapsed": false
   },
   "outputs": [
    {
     "ename": "SyntaxError",
     "evalue": "invalid syntax (<ipython-input-17-aac324b53572>, line 11)",
     "output_type": "error",
     "traceback": [
      "\u001b[0;36m  File \u001b[0;32m\"<ipython-input-17-aac324b53572>\"\u001b[0;36m, line \u001b[0;32m11\u001b[0m\n\u001b[0;31m    print( 'a' , pos_tag(word_tokenize(document)) for document in corpus )\u001b[0m\n\u001b[0m                                                    ^\u001b[0m\n\u001b[0;31mSyntaxError\u001b[0m\u001b[0;31m:\u001b[0m invalid syntax\n"
     ]
    }
   ],
   "source": [
    "from nltk import word_tokenize\n",
    "from nltk.stem import PorterStemmer\n",
    "from nltk.stem.wordnet import WordNetLemmatizer\n",
    "from nltk import pos_tag\n",
    "\n",
    "corpus = [\n",
    "'He ate the sandwiches',\n",
    "'Every sandwich was eaten by him'\n",
    "]\n",
    "\n",
    "print( 'a' , pos_tag(word_tokenize(document)) for document in corpus )"
   ]
  },
  {
   "cell_type": "code",
   "execution_count": 16,
   "metadata": {
    "collapsed": false
   },
   "outputs": [
    {
     "name": "stdout",
     "output_type": "stream",
     "text": [
      "Full Mode: 我/ 来到/ 北京/ 清华/ 清华大学/ 华大/ 大学\n",
      "Default Mode: 我/ 来到/ 北京/ 清华大学\n",
      "他, 来到, 了, 网易, 杭研, 大厦\n",
      "小明, 硕士, 毕业, 于, 中国, 科学, 学院, 科学院, 中国科学院, 计算, 计算所, ，, 后, 在, 日本, 京都, 大学, 日本京都大学, 深造\n",
      "小明, 计算, 毕业, 硕士, 学院, 日本, 深造, 大学, 日本京都大学, 中国科学院, 科学, 中国, 京都, 科学院, 计算所\n",
      "日本京都大学, 计算所, 小明, 深造, 硕士, 中国科学院, 毕业\n",
      "小明, 硕士, 毕业, 深造, 日本京都大学, 中国科学院, 计算所\n"
     ]
    }
   ],
   "source": [
    "import jieba\n",
    "\n",
    "seg_list = jieba.cut(\"我来到北京清华大学\",cut_all=True)\n",
    "print \"Full Mode:\", \"/ \".join(seg_list) #全模式\n",
    "\n",
    "seg_list = jieba.cut(\"我来到北京清华大学\",cut_all=False)\n",
    "print \"Default Mode:\", \"/ \".join(seg_list) #精确模式\n",
    "\n",
    "seg_list = jieba.cut(\"他来到了网易杭研大厦\") #默认是精确模式\n",
    "print \", \".join(seg_list)\n",
    "\n",
    "seg_list = jieba.cut_for_search(\"小明硕士毕业于中国科学院计算所，后在日本京都大学深造\") #搜索引擎模式\n",
    "print \", \".join(seg_list)\n",
    "\n",
    "stopw = [line.strip().decode('utf-8') for line in open('/ml/sougou/stopword1').readlines()]\n",
    "\n",
    "seg_list = jieba.cut_for_search(\"小明硕士毕业于中国科学院计算所，后在日本京都大学深造\") #搜索引擎模式\n",
    "print \", \".join(set(seg_list)-set(stopw))\n",
    "\n",
    "import jieba.analyse\n",
    "a=jieba.analyse.extract_tags(\"小明硕士毕业于中国科学院计算所，后在日本京都大学深造\", topK = 20, withWeight = False, allowPOS = ())\n",
    "print \", \".join(a)\n",
    "print \", \".join(set(a)-set(stopw))"
   ]
  },
  {
   "cell_type": "code",
   "execution_count": 4,
   "metadata": {
    "collapsed": false
   },
   "outputs": [
    {
     "name": "stdout",
     "output_type": "stream",
     "text": [
      "搜索引擎模式: 万众/超级/听说/小游戏/喜欢/啊啊啊/掘金\n"
     ]
    }
   ],
   "source": [
    "text =u'听说你超级喜欢万众掘金小游戏啊啊啊'\n",
    "default_mode = jieba.cut(text,cut_all=False)\n",
    "stopw = [line.strip().decode('utf-8') for line in open('/ml/sougou/stopword1').readlines()]\n",
    "print u'搜索引擎模式:',u'/'.join(set(default_mode)-set(stopw))"
   ]
  },
  {
   "cell_type": "code",
   "execution_count": 2,
   "metadata": {
    "collapsed": false
   },
   "outputs": [
    {
     "name": "stdout",
     "output_type": "stream",
     "text": [
      "6\n"
     ]
    }
   ],
   "source": [
    "print( len('好人') )"
   ]
  },
  {
   "cell_type": "code",
   "execution_count": 26,
   "metadata": {
    "collapsed": false
   },
   "outputs": [
    {
     "name": "stdout",
     "output_type": "stream",
     "text": [
      "3\n",
      "3\n",
      "2\n",
      "33\n",
      "准确率:0.333333333333\n"
     ]
    }
   ],
   "source": [
    "import numpy as np \n",
    "from sklearn.naive_bayes import GaussianNB  \n",
    "from sklearn.metrics import precision_score, recall_score, accuracy_score\n",
    "\n",
    "x_train = [[8,100,1],[8,3,4],[3,4,5],[4,5,6],[8,3,4]]\n",
    "y_train = [1,2,3,4,8]\n",
    "\n",
    "x_test = [[3,2,3],[5,3,4],[6,4,5]]\n",
    "y_test = [2,3,4]\n",
    "\n",
    "#高斯朴素贝叶斯  \n",
    "import numpy as np \n",
    "from sklearn.naive_bayes import GaussianNB  \n",
    "clf = GaussianNB().fit(x_train, y_train )\n",
    "predictions = clf.predict( x_test )\n",
    "\n",
    "nRight = 0\n",
    "for i in range( 0 , len(x_test) ):\n",
    "    print( predictions[i] )\n",
    "    if ( predictions[i] == y_test[i] ):\n",
    "        nRight += 1\n",
    "print( nRight * 100 / len(x_test) )\n",
    "print('准确率:%s' % accuracy_score(y_test, predictions))\n"
   ]
  },
  {
   "cell_type": "code",
   "execution_count": 27,
   "metadata": {
    "collapsed": false
   },
   "outputs": [
    {
     "name": "stdout",
     "output_type": "stream",
     "text": [
      "[8, 100, 1]\n"
     ]
    }
   ],
   "source": [
    "print( x_train[0] )"
   ]
  },
  {
   "cell_type": "code",
   "execution_count": 78,
   "metadata": {
    "collapsed": false
   },
   "outputs": [],
   "source": [
    "X = [1] * 4\n",
    "X[0] = \"旋风 少女 半脑 切除 牙膏 起沫 起沫\" \n",
    "X[1] = \"旋风 少女 企鹅 擢升 挪威 准将 恋恋\" \n",
    "X[2] = \"食来 孕转 沈谷雨 床戏 王祖蓝 非缘\" \n",
    "X[3] = \"勿扰 九门 片花 视频 张培 经典 文章\" \n",
    "\n",
    "'''\n",
    "X[] =pend( \"旋风 少女 半脑 切除 牙膏 起沫 不起沫\"\n",
    "X.append( \"旋风 少女 企鹅 擢升 挪威 准将 恋恋\" )\n",
    "X.append( \"食来 孕转 沈谷雨 床戏 王祖蓝 非缘\" )\n",
    "X.append( \"勿扰 九门 片花 视频 张培 经典 文章\" )\n",
    "'''\n",
    "\n",
    "y = []\n",
    "y.append( \"1\" )\n",
    "y.append( \"1\" )\n",
    "y.append( \"2\" )\n",
    "y.append( \"2\" )\n",
    "\n",
    "\n",
    "xt = []\n",
    "xt.append( \"视频 高以翔 世界 中心 呼唤 手上 苹果 优酷 视频\" )\n",
    "xt.append( \"少女 歌曲 大全 试听 落空 印子 遇见\" )\n",
    "\n",
    "yt = []\n",
    "yt.append( \"2\" )\n",
    "yt.append( \"1\" )\n"
   ]
  },
  {
   "cell_type": "code",
   "execution_count": 79,
   "metadata": {
    "collapsed": false
   },
   "outputs": [
    {
     "name": "stdout",
     "output_type": "stream",
     "text": [
      "  (0, 21)\t2\n",
      "  (0, 17)\t1\n",
      "  (0, 3)\t1\n",
      "  (0, 5)\t1\n",
      "  (0, 7)\t1\n",
      "  (0, 14)\t1\n",
      "  (1, 10)\t1\n",
      "  (1, 2)\t1\n",
      "  (1, 11)\t1\n",
      "  (1, 12)\t1\n",
      "  (1, 1)\t1\n",
      "  (1, 7)\t1\n",
      "  (1, 14)\t1\n",
      "  (2, 22)\t1\n",
      "  (2, 18)\t1\n",
      "  (2, 8)\t1\n",
      "  (2, 15)\t1\n",
      "  (2, 6)\t1\n",
      "  (2, 23)\t1\n",
      "  (3, 13)\t1\n",
      "  (3, 19)\t1\n",
      "  (3, 9)\t1\n",
      "  (3, 20)\t1\n",
      "  (3, 16)\t1\n",
      "  (3, 0)\t1\n",
      "  (3, 4)\t1\n",
      "  (0, 20)\t2\n",
      "  (1, 7)\t1\n"
     ]
    }
   ],
   "source": [
    "from sklearn import feature_extraction\n",
    "from sklearn.feature_extraction.text import TfidfTransformer\n",
    "from sklearn.feature_extraction.text import CountVectorizer\n",
    "\n",
    "#该类会将文本中的词语转换为词频矩阵，矩阵元素a[i][j] 表示j词在i类文本下的词频\n",
    "vectorizer=CountVectorizer()\n",
    "\n",
    "#该类会统计每个词语的tf-idf权值\n",
    "transformer=TfidfTransformer()\n",
    "\n",
    "#第一个fit_transform是计算tf-idf，第二个fit_transform是将文本转为词频矩阵\n",
    "vvx = vectorizer.fit_transform(X)\n",
    "vvxt = vectorizer.transform(xt)\n",
    "\n",
    "print( vvx )\n",
    "print( vvxt )\n",
    "\n",
    "x_train = transformer.fit_transform(vvx)\n",
    "x_test = transformer.transform(vvxt)\n",
    "\n",
    "#print( x_train )\n",
    "#print( x_test )\n",
    "\n",
    "#print( x_train.toarray() )\n",
    "#print( x_test.toarray() )\n",
    "#x_train = vectorizer.fit_transform(X)\n",
    "#x_test = vectorizer.transform(Xt)"
   ]
  },
  {
   "cell_type": "code",
   "execution_count": 42,
   "metadata": {
    "collapsed": false
   },
   "outputs": [
    {
     "data": {
      "text/plain": [
       "\"\\nprint( x_train )\\nprint( '-------' )\\nprint( x_train[3] )\\nprint( '-------' )\\nprint( x_test )\\n\""
      ]
     },
     "execution_count": 42,
     "metadata": {},
     "output_type": "execute_result"
    }
   ],
   "source": [
    "'''\n",
    "print( x_train )\n",
    "print( '-------' )\n",
    "print( x_train[3] )\n",
    "print( '-------' )\n",
    "print( x_test )\n",
    "'''"
   ]
  },
  {
   "cell_type": "code",
   "execution_count": 64,
   "metadata": {
    "collapsed": false
   },
   "outputs": [
    {
     "name": "stdout",
     "output_type": "stream",
     "text": [
      "4\n"
     ]
    },
    {
     "data": {
      "text/plain": [
       "\"\\nprint('\\xe5\\x87\\x86\\xe7\\xa1\\xae\\xe7\\x8e\\x87:%s' % accuracy_score(x_train, predictions))\\n\""
      ]
     },
     "execution_count": 64,
     "metadata": {},
     "output_type": "execute_result"
    }
   ],
   "source": [
    "#高斯朴素贝叶斯  \n",
    "import numpy as np \n",
    "from sklearn.naive_bayes import GaussianNB  \n",
    "clf = GaussianNB().fit(x_train.toarray() , y )\n",
    "predictions = clf.predict( x_train.toarray() )\n",
    "\n",
    "nRight = 0\n",
    "for i in range( 0 , 4 ):\n",
    "    if ( predictions[i] == y[i] ):\n",
    "        nRight += 1\n",
    "#print( nRight * 100 / len(x_train) )\n",
    "print( nRight )\n",
    "'''\n",
    "print('准确率:%s' % accuracy_score(x_train, predictions))\n",
    "'''"
   ]
  },
  {
   "cell_type": "code",
   "execution_count": 41,
   "metadata": {
    "collapsed": false
   },
   "outputs": [
    {
     "name": "stdout",
     "output_type": "stream",
     "text": [
      "[ 0.40021825  0.          0.          0.          0.40021825  0.\n",
      "  0.40021825  0.          0.31553666  0.          0.          0.          0.\n",
      "  0.          0.          0.31553666  0.          0.          0.40021825\n",
      "  0.          0.          0.          0.40021825  0.          0.        ]\n",
      "['1', '1', '2', '2']\n"
     ]
    }
   ],
   "source": [
    "print( x_train.toarray()[0] )\n",
    "print( y )"
   ]
  },
  {
   "cell_type": "code",
   "execution_count": null,
   "metadata": {
    "collapsed": true
   },
   "outputs": [],
   "source": []
  }
 ],
 "metadata": {
  "kernelspec": {
   "display_name": "Python 2",
   "language": "python",
   "name": "python2"
  },
  "language_info": {
   "codemirror_mode": {
    "name": "ipython",
    "version": 2
   },
   "file_extension": ".py",
   "mimetype": "text/x-python",
   "name": "python",
   "nbconvert_exporter": "python",
   "pygments_lexer": "ipython2",
   "version": "2.7.6"
  }
 },
 "nbformat": 4,
 "nbformat_minor": 2
}
